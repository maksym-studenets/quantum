{
 "cells": [
  {
   "cell_type": "code",
   "execution_count": 2,
   "metadata": {
    "collapsed": true
   },
   "outputs": [],
   "source": [
    "import cirq\n",
    "import numpy as np\n",
    "import random\n"
   ]
  },
  {
   "cell_type": "markdown",
   "metadata": {},
   "source": [
    "This function returns a teleportation circuit"
   ]
  },
  {
   "cell_type": "code",
   "execution_count": 3,
   "metadata": {},
   "outputs": [],
   "source": [
    "def buildTeleportationCircuit(x, y):\n",
    "    circuit = cirq.Circuit()\n",
    "    message, a, b = cirq.LineQubit.range(3)\n",
    "    \n",
    "    circuit.append([cirq.H(a), cirq.CNOT(a, b)])\n",
    "    circuit.append([cirq.X(message) ** x, cirq.Y(message) ** y])\n",
    "    circuit.append([cirq.CNOT(message, a), cirq.H(message)])\n",
    "    circuit.append(cirq.measure(message, a))\n",
    "    circuit.append([cirq.CNOT(a, b), cirq.CZ(message, b)])\n",
    "    return circuit\n"
   ]
  },
  {
   "cell_type": "markdown",
   "metadata": {},
   "source": [
    "Parameters used for quantum teleportation are randomized"
   ]
  },
  {
   "cell_type": "code",
   "execution_count": 4,
   "metadata": {},
   "outputs": [
    {
     "name": "stdout",
     "output_type": "stream",
     "text": [
      "0: ───X^0.752───Y^0.904───@───H───M───────@───\n                          │       │       │\n1: ───H─────────@─────────X───────M───@───┼───\n                │                     │   │\n2: ─────────────X─────────────────────X───@───\n"
     ]
    }
   ],
   "source": [
    "x = random.random()\n",
    "y = random.random();\n",
    "\n",
    "circuit = buildTeleportationCircuit(x, y)\n",
    "print(circuit)"
   ]
  },
  {
   "cell_type": "code",
   "execution_count": 5,
   "metadata": {},
   "outputs": [],
   "source": [
    "simulator = cirq.Simulator()"
   ]
  },
  {
   "cell_type": "code",
   "execution_count": 7,
   "metadata": {},
   "outputs": [],
   "source": [
    "q0, q1 = cirq.LineQubit.range(2)\n",
    "\n",
    "message = simulator.simulate(\n",
    "    cirq.Circuit.from_ops(\n",
    "        [cirq.X(q0) ** x, cirq.Y(q1) ** y]))"
   ]
  },
  {
   "cell_type": "markdown",
   "metadata": {},
   "source": [
    "Now we'll print a Bloch Sphere of the message after randomized gates X and Y"
   ]
  },
  {
   "cell_type": "code",
   "execution_count": 13,
   "metadata": {},
   "outputs": [
    {
     "name": "stdout",
     "output_type": "stream",
     "text": [
      "x:  -0.0\ny:  -0.7015\nz:  -0.7126\n"
     ]
    }
   ],
   "source": [
    "b0x, b0y, b0z = cirq.bloch_vector_from_state_vector(message.final_state, 0)\n",
    "print(\"x: \", np.around(b0x, 4))\n",
    "print(\"y: \", np.around(b0y, 4))\n",
    "print(\"z: \", np.around(b0z, 4))\n"
   ]
  },
  {
   "cell_type": "markdown",
   "metadata": {},
   "source": [
    "Final state of the simulation"
   ]
  },
  {
   "cell_type": "code",
   "execution_count": 12,
   "metadata": {},
   "outputs": [
    {
     "name": "stdout",
     "output_type": "stream",
     "text": [
      "x:  0.0\ny:  0.0\nz:  -1.0\n"
     ]
    }
   ],
   "source": [
    "finalState = simulator.simulate(circuit)\n",
    "\n",
    "b2x, b2y, b2z = cirq.bloch_vector_from_state_vector(finalState.final_state, 0)\n",
    "\n",
    "print(\"x: \", np.around(b2x, 4))\n",
    "print(\"y: \", np.around(b2y, 4))\n",
    "print(\"z: \", np.around(b2z, 4))"
   ]
  }
 ],
 "metadata": {
  "kernelspec": {
   "display_name": "Python 2",
   "language": "python",
   "name": "python2"
  },
  "language_info": {
   "codemirror_mode": {
    "name": "ipython",
    "version": 2
   },
   "file_extension": ".py",
   "mimetype": "text/x-python",
   "name": "python",
   "nbconvert_exporter": "python",
   "pygments_lexer": "ipython2",
   "version": "2.7.6"
  }
 },
 "nbformat": 4,
 "nbformat_minor": 0
}
