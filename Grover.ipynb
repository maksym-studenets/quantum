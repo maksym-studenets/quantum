{
 "cells": [
  {
   "cell_type": "markdown",
   "metadata": {
    "collapsed": true
   },
   "source": [
    "# Grover algorithm"
   ]
  },
  {
   "cell_type": "code",
   "execution_count": 1,
   "metadata": {},
   "outputs": [],
   "source": [
    "import cirq\n",
    "import random\n"
   ]
  },
  {
   "cell_type": "code",
   "execution_count": 2,
   "metadata": {},
   "outputs": [],
   "source": [
    "def buildOracle(inputQubits, outputQubit, x):\n",
    "    yield(cirq.X(q) for (q, bit) in zip(inputQubits, x) if not bit)\n",
    "    yield(cirq.TOFFOLI(inputQubits[0], inputQubits[1], outputQubit))\n",
    "    yield(cirq.X(q) for (q, bit) in zip(inputQubits, x) if not bit)\n",
    "    "
   ]
  },
  {
   "cell_type": "code",
   "execution_count": 3,
   "metadata": {},
   "outputs": [],
   "source": [
    "def buildGroverCircuit(inputQubits, output, oracle):\n",
    "    circuit = cirq.Circuit()\n",
    "\n",
    "    circuit.append([cirq.X(output),\n",
    "                    cirq.H(output),\n",
    "                    cirq.H.on_each(*inputQubits)\n",
    "                    ])\n",
    "\n",
    "    circuit.append(oracle)\n",
    "\n",
    "    # Construction of the Grover operator\n",
    "    circuit.append(cirq.H.on_each(*inputQubits))\n",
    "    circuit.append(cirq.X.on_each(*inputQubits))\n",
    "    circuit.append(cirq.H.on(inputQubits[1]))\n",
    "    circuit.append(cirq.CNOT(inputQubits[0], inputQubits[1]))\n",
    "    circuit.append(cirq.H.on(inputQubits[1]))\n",
    "    circuit.append(cirq.X.on_each(*inputQubits))\n",
    "    circuit.append(cirq.H.on_each(*inputQubits))\n",
    "\n",
    "    # Measure the result.\n",
    "    circuit.append(cirq.measure(*inputQubits, key='result'))\n",
    "\n",
    "    return circuit\n"
   ]
  },
  {
   "cell_type": "markdown",
   "metadata": {},
   "source": [
    "Parameter setup"
   ]
  },
  {
   "cell_type": "code",
   "execution_count": 4,
   "metadata": {},
   "outputs": [],
   "source": [
    "qubitCount = 2\n",
    "circuitSampleCount = 10\n",
    "\n",
    "inputQubits = [cirq.GridQubit(i, 0) for i in range(qubitCount)]\n",
    "outputQubit = cirq.GridQubit(qubitCount, 0)\n"
   ]
  },
  {
   "cell_type": "markdown",
   "metadata": {},
   "source": [
    "Set up x'"
   ]
  },
  {
   "cell_type": "code",
   "execution_count": 5,
   "metadata": {},
   "outputs": [
    {
     "name": "stdout",
     "output_type": "stream",
     "text": [
      "[1, 0]\n"
     ]
    }
   ],
   "source": [
    "xBits = [random.randint(0, 1) for _ in range(qubitCount)]\n",
    "print(xBits)\n"
   ]
  },
  {
   "cell_type": "markdown",
   "metadata": {},
   "source": [
    "Make oracle"
   ]
  },
  {
   "cell_type": "code",
   "execution_count": 6,
   "metadata": {},
   "outputs": [],
   "source": [
    "oracle = buildOracle(inputQubits, outputQubit, xBits)\n"
   ]
  },
  {
   "cell_type": "markdown",
   "metadata": {},
   "source": [
    "Build circuit that implement Grover's algorithm"
   ]
  },
  {
   "cell_type": "code",
   "execution_count": 7,
   "metadata": {},
   "outputs": [
    {
     "name": "stdout",
     "output_type": "stream",
     "text": [
      "(0, 0): ───H───────@───H───X───────────@───X───H───────M('result')───\n                   │                   │               │\n(1, 0): ───H───X───@───X───H───X───H───X───H───X───H───M─────────────\n                   │\n(2, 0): ───X───H───X─────────────────────────────────────────────────\n"
     ]
    }
   ],
   "source": [
    "circuit = buildGroverCircuit(inputQubits, outputQubit, oracle)\n",
    "print(circuit)\n"
   ]
  },
  {
   "cell_type": "markdown",
   "metadata": {},
   "source": [
    "Run a simulator\n"
   ]
  },
  {
   "cell_type": "code",
   "execution_count": 9,
   "metadata": {},
   "outputs": [],
   "source": [
    "simulator = cirq.Simulator()\n",
    "state = simulator.run(circuit, repetitions=circuitSampleCount)\n"
   ]
  },
  {
   "cell_type": "markdown",
   "metadata": {},
   "source": [
    "Define folding function"
   ]
  },
  {
   "cell_type": "code",
   "execution_count": 10,
   "metadata": {},
   "outputs": [],
   "source": [
    "def bitstring(bits):\n",
    "    return ''.join(str(int(b)) for b in bits )\n"
   ]
  },
  {
   "cell_type": "markdown",
   "metadata": {},
   "source": [
    "Get the result"
   ]
  },
  {
   "cell_type": "code",
   "execution_count": 12,
   "metadata": {},
   "outputs": [],
   "source": [
    "frequencies = state.histogram(key='result', fold_func=bitstring)\n"
   ]
  },
  {
   "cell_type": "code",
   "execution_count": 16,
   "metadata": {},
   "outputs": [
    {
     "name": "stdout",
     "output_type": "stream",
     "text": [
      "Counter({'10': 10})\n"
     ]
    }
   ],
   "source": [
    "print(frequencies)"
   ]
  },
  {
   "cell_type": "markdown",
   "metadata": {},
   "source": [
    "The most common bit string:"
   ]
  },
  {
   "cell_type": "code",
   "execution_count": 18,
   "metadata": {},
   "outputs": [
    {
     "name": "stdout",
     "output_type": "stream",
     "text": [
      "10\n"
     ]
    }
   ],
   "source": [
    "mostCommonBitString = frequencies.most_common(1)[0][0]\n",
    "print(mostCommonBitString)\n"
   ]
  },
  {
   "cell_type": "code",
   "execution_count": 19,
   "metadata": {},
   "outputs": [
    {
     "name": "stdout",
     "output_type": "stream",
     "text": [
      "True\n"
     ]
    }
   ],
   "source": [
    "matched = (mostCommonBitString == bitstring(xBits))\n",
    "print(matched)\n"
   ]
  }
 ],
 "metadata": {
  "kernelspec": {
   "display_name": "Python 2",
   "language": "python",
   "name": "python2"
  },
  "language_info": {
   "codemirror_mode": {
    "name": "ipython",
    "version": 2
   },
   "file_extension": ".py",
   "mimetype": "text/x-python",
   "name": "python",
   "nbconvert_exporter": "python",
   "pygments_lexer": "ipython2",
   "version": "2.7.6"
  }
 },
 "nbformat": 4,
 "nbformat_minor": 0
}
