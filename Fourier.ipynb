{
 "cells": [
  {
   "cell_type": "markdown",
   "metadata": {
    "collapsed": true
   },
   "source": [
    "# Quantum Fourier Transform"
   ]
  },
  {
   "cell_type": "code",
   "execution_count": 1,
   "metadata": {},
   "outputs": [],
   "source": [
    "import cirq\n",
    "import numpy as np\n"
   ]
  },
  {
   "cell_type": "markdown",
   "metadata": {},
   "source": [
    "First we define a function that would generate a 2x2 circuit"
   ]
  },
  {
   "cell_type": "code",
   "execution_count": 3,
   "metadata": {},
   "outputs": [],
   "source": [
    "def czAndSwap(q0, q1, root):\n",
    "    yield cirq.CZ(q0, q1) ** root\n",
    "    yield cirq.SWAP(q0, q1)\n",
    "    \n",
    "\n",
    "def generateFourCellQubitGrid():\n",
    "    a, b, c, d = [cirq.GridQubit(0, 0), cirq.GridQubit(0, 1),\n",
    "                  cirq.GridQubit(1, 1), cirq.GridQubit(1, 0)]\n",
    "    \n",
    "    circuit = cirq.Circuit.from_ops(\n",
    "        cirq.H(a),\n",
    "        czAndSwap(a, b, 0.5),\n",
    "        czAndSwap(b, c, 0.25),\n",
    "        czAndSwap(c, d, 0.125),\n",
    "        \n",
    "        cirq.H(a),\n",
    "        czAndSwap(a, b, 0.5),\n",
    "        czAndSwap(b, c, 0.25),\n",
    "        \n",
    "        cirq.H(a),\n",
    "        czAndSwap(a, b, 0.5),\n",
    "        \n",
    "        cirq.H(a),\n",
    "        \n",
    "        strategy=cirq.InsertStrategy.EARLIEST\n",
    "    )\n",
    "    return circuit\n"
   ]
  },
  {
   "cell_type": "markdown",
   "metadata": {},
   "source": [
    "Create a Quantum Fourier transform circuit and print it"
   ]
  },
  {
   "cell_type": "code",
   "execution_count": 6,
   "metadata": {
    "collapsed": false
   },
   "outputs": [
    {
     "name": "stdout",
     "output_type": "stream",
     "text": [
      "(0, 0): ───H───@───────×───H────────────@─────────×───H────────────@───────×───H───\n               │       │                │         │                │       │\n(0, 1): ───────@^0.5───×───@────────×───@^0.5─────×───@────────×───@^0.5───×───────\n                           │        │                 │        │\n(1, 0): ───────────────────┼────────┼───@─────────×───┼────────┼───────────────────\n                           │        │   │         │   │        │\n(1, 1): ───────────────────@^0.25───×───@^(1/8)───×───@^0.25───×───────────────────\n"
     ]
    }
   ],
   "source": [
    "quantumFourierTransformCircuit = generateFourCellQubitGrid()\n",
    "print(quantumFourierTransformCircuit)\n"
   ]
  },
  {
   "cell_type": "markdown",
   "metadata": {},
   "source": [
    "Now we will run a simulator and print the output"
   ]
  },
  {
   "cell_type": "code",
   "execution_count": 5,
   "metadata": {},
   "outputs": [
    {
     "name": "stdout",
     "output_type": "stream",
     "text": [
      "[0.25+0.j 0.25+0.j 0.25+0.j 0.25+0.j 0.25+0.j 0.25+0.j 0.25+0.j 0.25+0.j\n 0.25+0.j 0.25+0.j 0.25+0.j 0.25+0.j 0.25+0.j 0.25+0.j 0.25+0.j 0.25+0.j]\n"
     ]
    }
   ],
   "source": [
    "simulator = cirq.Simulator()\n",
    "\n",
    "finalState = simulator.simulate(quantumFourierTransformCircuit)\n",
    "\n",
    "print(np.around(finalState.final_state, 3))\n"
   ]
  }
 ],
 "metadata": {
  "kernelspec": {
   "display_name": "Python 2",
   "language": "python",
   "name": "python2"
  },
  "language_info": {
   "codemirror_mode": {
    "name": "ipython",
    "version": 2
   },
   "file_extension": ".py",
   "mimetype": "text/x-python",
   "name": "python",
   "nbconvert_exporter": "python",
   "pygments_lexer": "ipython2",
   "version": "2.7.6"
  }
 },
 "nbformat": 4,
 "nbformat_minor": 0
}
